{
 "cells": [
  {
   "attachments": {},
   "cell_type": "markdown",
   "metadata": {},
   "source": [
    "1. IMPORTING MODULES"
   ]
  },
  {
   "cell_type": "code",
   "execution_count": null,
   "metadata": {},
   "outputs": [],
   "source": [
    "import pandas as pd\n",
    "import numpy as np\n",
    "\n",
    "import matplotlib.pyplot as plt\n",
    "import seaborn as sns\n",
    "\n",
    "from sklearn.naive_bayes import GaussianNB\n",
    "from sklearn.neighbors import KNeighborsClassifier\n",
    "from sklearn.svm import SVC\n",
    "from sklearn.ensemble import RandomForestClassifier\n",
    "\n",
    "from sklearn.model_selection import train_test_split\n",
    "from sklearn.metrics import accuracy_score\n",
    "from sklearn import metrics\n",
    "\n",
    "from sklearn import preprocessing"
   ]
  },
  {
   "attachments": {},
   "cell_type": "markdown",
   "metadata": {},
   "source": [
    "2.READING DATA OF CSV FILE\n"
   ]
  },
  {
   "cell_type": "code",
   "execution_count": null,
   "metadata": {},
   "outputs": [],
   "source": [
    "df=pd.read_csv(\"dataset_sdn.csv\")\n",
    "df"
   ]
  },
  {
   "attachments": {},
   "cell_type": "markdown",
   "metadata": {},
   "source": [
    "3.DATA PREPROCESSING AND DATA VISUALIZATION \n"
   ]
  },
  {
   "cell_type": "code",
   "execution_count": null,
   "metadata": {},
   "outputs": [],
   "source": [
    "df.info()"
   ]
  },
  {
   "cell_type": "code",
   "execution_count": null,
   "metadata": {},
   "outputs": [],
   "source": [
    "df.describe()"
   ]
  },
  {
   "cell_type": "code",
   "execution_count": null,
   "metadata": {},
   "outputs": [],
   "source": [
    "#COLUMN NAMES\n",
    "column_names= df.columns\n",
    "column_names"
   ]
  },
  {
   "cell_type": "code",
   "execution_count": null,
   "metadata": {},
   "outputs": [],
   "source": [
    "#NULL VALUES SUM\n",
    "df.isnull().sum().plot.bar()\n",
    "plt.title(\"NULL Values for each column \")\n",
    "plt.xlabel(\"Column names\")\n",
    "plt.ylabel(\"Count\")"
   ]
  },
  {
   "cell_type": "code",
   "execution_count": null,
   "metadata": {},
   "outputs": [],
   "source": [
    "# Dropping rows having null values\n",
    "df=df.dropna()"
   ]
  },
  {
   "cell_type": "code",
   "execution_count": null,
   "metadata": {},
   "outputs": [],
   "source": [
    "df.info()"
   ]
  },
  {
   "cell_type": "code",
   "execution_count": null,
   "metadata": {},
   "outputs": [],
   "source": [
    "# Getting unique destination \n",
    "uniq_dest=df['dst'].unique()\n",
    "total_dst=len(uniq_dest)\n",
    "print(\"Total destination : \", total_dst)\n",
    "print(\"Different destination : \",uniq_dest)"
   ]
  },
  {
   "cell_type": "code",
   "execution_count": null,
   "metadata": {},
   "outputs": [],
   "source": [
    "# Doing analysis for malicious and normal traffic \n",
    "gp=df.groupby('label')['label'].count()\n",
    "plt.bar(list(gp.index),list(gp.values),color=['g','r'])\n",
    "plt.xticks(list(gp.index))\n",
    "plt.xlabel(\"Traffic label\")\n",
    "plt.ylabel(\"Count\")\n",
    "plt.title(\"Traffic for normal and Malicious traffic\")"
   ]
  },
  {
   "cell_type": "code",
   "execution_count": null,
   "metadata": {},
   "outputs": [],
   "source": [
    "ip_addr=df[df['label']==0].groupby('dst').count()['label'].index\n",
    "normal_traffic=df.groupby(['dst','label']).size().unstack().fillna(0)[0]\n",
    "attack_traffic=df.groupby(['dst','label']).size().unstack().fillna(0)[1]\n",
    "plt.barh(ip_addr,normal_traffic,color='g', label='Normal Traffic')\n",
    "plt.barh(ip_addr,attack_traffic,color='r', label='Attack Traffic')\n",
    "plt.legend()\n",
    "plt.xlabel(\"Count\")\n",
    "plt.ylabel(\"Destination IP Adresses\")\n",
    "plt.title(\"Attack and Normal traffic \")\n"
   ]
  },
  {
   "cell_type": "code",
   "execution_count": null,
   "metadata": {},
   "outputs": [],
   "source": [
    "# Columns containing object(string) type data\n",
    "# Port no column also does not do much so ignoring it also\n",
    "object_col= list(df.select_dtypes(include=['object']).columns)\n",
    "object_col=object_col+['port_no']\n",
    "print(object_col)\n",
    "data=df.drop(columns=object_col)\n"
   ]
  },
  {
   "attachments": {},
   "cell_type": "markdown",
   "metadata": {},
   "source": [
    "4.FEATURE SELECTION\n"
   ]
  },
  {
   "cell_type": "code",
   "execution_count": null,
   "metadata": {},
   "outputs": [],
   "source": [
    "y=data['label']\n",
    "x=data.drop(['label'],axis=1)\n",
    "x_train,x_test,y_train,y_test=train_test_split(x,y,random_state=104,test_size=0.2)\n",
    "train_data=pd.concat([x_train,y_train],axis=1,join='inner')\n",
    "\n",
    "correl=train_data.corr(numeric_only=True)['label'].sort_values()\n",
    "correl.drop('label',inplace=True)"
   ]
  },
  {
   "cell_type": "code",
   "execution_count": null,
   "metadata": {},
   "outputs": [],
   "source": [
    "selected=correl.loc[abs(correl)>0.08]\n",
    "attr_selected=list(selected.index)\n",
    "print(attr_selected)"
   ]
  },
  {
   "attachments": {},
   "cell_type": "markdown",
   "metadata": {},
   "source": [
    "5.NORMALIZATON\n"
   ]
  },
  {
   "cell_type": "code",
   "execution_count": null,
   "metadata": {},
   "outputs": [],
   "source": [
    "norm_x_train_data=(x_train.select_dtypes(include=['float64','int64'])-x_train.min(numeric_only=True))\n",
    "norm_x_test_data=(x_test.select_dtypes(include=['float64','int64'])-x_test.min(numeric_only=True))\n",
    "norm_x_train_data=preprocessing.scale(norm_x_train_data[attr_selected])\n",
    "norm_x_test_data=preprocessing.scale(norm_x_test_data[attr_selected])\n",
    "\n",
    "norm_x_train_data.shape\n",
    "y_train.shape"
   ]
  },
  {
   "attachments": {},
   "cell_type": "markdown",
   "metadata": {},
   "source": [
    "6.TRAINING INDIVIDUAL MODEL"
   ]
  },
  {
   "cell_type": "code",
   "execution_count": null,
   "metadata": {},
   "outputs": [],
   "source": [
    "train_x,val_x,train_y,val_y=train_test_split(norm_x_train_data,y_train,stratify=y_train,test_size=0.2,random_state=0)"
   ]
  },
  {
   "cell_type": "code",
   "execution_count": null,
   "metadata": {},
   "outputs": [],
   "source": [
    "nb=GaussianNB()\n",
    "nb.fit(norm_x_train_data,y_train)\n",
    "nb.score(norm_x_test_data,y_test)\n"
   ]
  },
  {
   "cell_type": "code",
   "execution_count": null,
   "metadata": {},
   "outputs": [],
   "source": [
    "knn=KNeighborsClassifier()\n",
    "\n",
    "knn.fit(norm_x_train_data,y_train)\n",
    "knn.score(norm_x_test_data,y_test)"
   ]
  },
  {
   "cell_type": "code",
   "execution_count": null,
   "metadata": {},
   "outputs": [],
   "source": [
    "svc=SVC()\n",
    "\n",
    "svc.fit(norm_x_train_data,y_train)\n",
    "svc.score(norm_x_test_data,y_test)"
   ]
  },
  {
   "attachments": {},
   "cell_type": "markdown",
   "metadata": {},
   "source": [
    "7.HYBRID MODEL\n"
   ]
  },
  {
   "cell_type": "code",
   "execution_count": null,
   "metadata": {},
   "outputs": [],
   "source": [
    "train_x,val_x,train_y,val_y=train_test_split(norm_x_train_data,y_train,stratify=y_train,test_size=0.2,random_state=42)"
   ]
  },
  {
   "cell_type": "code",
   "execution_count": null,
   "metadata": {},
   "outputs": [],
   "source": [
    "model1 = GaussianNB()\n",
    "model1.fit(norm_x_train_data, y_train)\n"
   ]
  },
  {
   "cell_type": "code",
   "execution_count": null,
   "metadata": {},
   "outputs": [],
   "source": [
    "model2 = KNeighborsClassifier()\n",
    "model2.fit(norm_x_train_data, y_train)\n"
   ]
  },
  {
   "cell_type": "code",
   "execution_count": null,
   "metadata": {},
   "outputs": [],
   "source": [
    "model3 = SVC()\n",
    "model3.fit(norm_x_train_data, y_train)"
   ]
  },
  {
   "cell_type": "code",
   "execution_count": null,
   "metadata": {},
   "outputs": [],
   "source": [
    "y_pred1 = model1.predict(norm_x_test_data)\n",
    "y_pred2 = model2.predict(norm_x_test_data)\n",
    "y_pred3 = model3.predict(norm_x_test_data)\n",
    "\n"
   ]
  },
  {
   "cell_type": "code",
   "execution_count": null,
   "metadata": {},
   "outputs": [],
   "source": [
    "ensemble_X = pd.DataFrame({'NB': y_pred1, 'KNN': y_pred2, 'SVM': y_pred3})\n",
    "ensemble_y = y_test\n"
   ]
  },
  {
   "cell_type": "code",
   "execution_count": null,
   "metadata": {},
   "outputs": [],
   "source": [
    "ensemble = RandomForestClassifier()\n",
    "ensemble.fit(ensemble_X, ensemble_y)"
   ]
  },
  {
   "cell_type": "code",
   "execution_count": null,
   "metadata": {},
   "outputs": [],
   "source": [
    "y_pred = ensemble.predict(ensemble_X)"
   ]
  },
  {
   "cell_type": "code",
   "execution_count": null,
   "metadata": {},
   "outputs": [],
   "source": [
    "accuracy = accuracy_score(ensemble_y, y_pred)\n",
    "\n",
    "print('Accuracy:', accuracy)"
   ]
  }
 ],
 "metadata": {
  "kernelspec": {
   "display_name": "Python 3",
   "language": "python",
   "name": "python3"
  },
  "language_info": {
   "codemirror_mode": {
    "name": "ipython",
    "version": 3
   },
   "file_extension": ".py",
   "mimetype": "text/x-python",
   "name": "python",
   "nbconvert_exporter": "python",
   "pygments_lexer": "ipython3",
   "version": "3.10.10"
  },
  "orig_nbformat": 4,
  "vscode": {
   "interpreter": {
    "hash": "ed80e08598480cbf8e637606759097f069e9705fe7b0aad1d2ff8c4502c804f4"
   }
  }
 },
 "nbformat": 4,
 "nbformat_minor": 2
}
